{
  "nbformat": 4,
  "nbformat_minor": 0,
  "metadata": {
    "colab": {
      "name": "Kaos kaki",
      "provenance": []
    },
    "kernelspec": {
      "name": "python3",
      "display_name": "Python 3"
    }
  },
  "cells": [
    {
      "cell_type": "code",
      "metadata": {
        "colab": {
          "base_uri": "https://localhost:8080/"
        },
        "id": "WRCEgq33gEeD",
        "outputId": "6ed7766b-8a32-4658-c445-96a5777bed7e"
      },
      "source": [
        "n = int(input(\"Panjang list: \"))\r\n",
        "print(\"\\n\")\r\n",
        "kaoskaki = list(int(num) for num in input(\"Masukkan kode warna: \").strip().split())[:n]\r\n",
        "print(\"User List: \", kaoskaki)"
      ],
      "execution_count": null,
      "outputs": [
        {
          "output_type": "stream",
          "text": [
            "Panjang list: 7\n",
            "\n",
            "\n",
            "Masukkan kode warna: 1 2 1 2 1 3 2\n",
            "User List:  [1, 2, 1, 2, 1, 3, 2]\n"
          ],
          "name": "stdout"
        }
      ]
    },
    {
      "cell_type": "code",
      "metadata": {
        "colab": {
          "base_uri": "https://localhost:8080/"
        },
        "id": "sQ-6t7v8gfOP",
        "outputId": "d3c9fe28-3b1b-4dc1-ea59-eaf9b1136643"
      },
      "source": [
        "def berapapasang(larik, n):\r\n",
        "    jumlahpasang = 0 \r\n",
        "    larik.sort()\r\n",
        "    i = 0\r\n",
        "    while i < (n-1): \r\n",
        "        if (larik[i] == larik[i + 1]):\r\n",
        "            jumlahpasang += 1 \r\n",
        "            i = i + 2\r\n",
        "        else:\r\n",
        "            i += 1\r\n",
        "    return jumlahpasang\r\n",
        "if __name__ == \"__main__\":\r\n",
        " \r\n",
        "    #arr = [6, 5, 2, 3, 5, 2, 2, 1,1]\r\n",
        "    #n = len(arr)\r\n",
        " \r\n",
        "    # Function call\r\n",
        "    print(berapapasang(kaoskaki, n))"
      ],
      "execution_count": null,
      "outputs": [
        {
          "output_type": "stream",
          "text": [
            "2\n"
          ],
          "name": "stdout"
        }
      ]
    },
    {
      "cell_type": "code",
      "metadata": {
        "id": "NHMkTUBohWx_"
      },
      "source": [
        ""
      ],
      "execution_count": null,
      "outputs": []
    }
  ]
}