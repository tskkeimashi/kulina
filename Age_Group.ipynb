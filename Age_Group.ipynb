{
  "nbformat": 4,
  "nbformat_minor": 0,
  "metadata": {
    "colab": {
      "name": "Age Group",
      "provenance": []
    },
    "kernelspec": {
      "name": "python3",
      "display_name": "Python 3"
    }
  },
  "cells": [
    {
      "cell_type": "code",
      "metadata": {
        "colab": {
          "base_uri": "https://localhost:8080/"
        },
        "id": "UOuhFwxlHVbY",
        "outputId": "9a6f3ff9-fab7-47c4-ba7a-af65420a497f"
      },
      "source": [
        "import pandas as pd\r\n",
        "\r\n",
        "df = pd.read_csv('agegroup.csv')\r\n",
        "print(df.head())"
      ],
      "execution_count": 19,
      "outputs": [
        {
          "output_type": "stream",
          "text": [
            "   ID        FullName  Gender DateOfBirth\n",
            "0   1      Stan Smith    Male  1960-02-10\n",
            "1   2  Nikola Griffin    Male  1999-12-20\n",
            "2   3      Ruby Moore  Female  2002-03-03\n"
          ],
          "name": "stdout"
        }
      ]
    },
    {
      "cell_type": "code",
      "metadata": {
        "colab": {
          "base_uri": "https://localhost:8080/"
        },
        "id": "3TQwKG-dILec",
        "outputId": "9ea8a669-88d2-4e6e-e90d-84ace6030ff5"
      },
      "source": [
        "print(df.columns)"
      ],
      "execution_count": 20,
      "outputs": [
        {
          "output_type": "stream",
          "text": [
            "Index(['ID', 'FullName', 'Gender', 'DateOfBirth'], dtype='object')\n"
          ],
          "name": "stdout"
        }
      ]
    },
    {
      "cell_type": "code",
      "metadata": {
        "id": "F94G8jpYHsTK"
      },
      "source": [
        "df['DateOfBirth'] = pd.to_datetime(df['DateOfBirth'])"
      ],
      "execution_count": 21,
      "outputs": []
    },
    {
      "cell_type": "code",
      "metadata": {
        "colab": {
          "base_uri": "https://localhost:8080/"
        },
        "id": "NJYyTfEuH-BH",
        "outputId": "85b05d95-472b-4df7-852a-1b7497608b72"
      },
      "source": [
        "df['Age'] = df['DateOfBirth'].apply(lambda x: (pd.datetime.now().year - x.year))\r\n",
        "#df['Age'] = df['DateOfBirth'].apply(lambda x: (2018 - x.year))"
      ],
      "execution_count": 26,
      "outputs": [
        {
          "output_type": "stream",
          "text": [
            "/usr/local/lib/python3.6/dist-packages/ipykernel_launcher.py:1: FutureWarning: The pandas.datetime class is deprecated and will be removed from pandas in a future version. Import from datetime instead.\n",
            "  \"\"\"Entry point for launching an IPython kernel.\n"
          ],
          "name": "stderr"
        }
      ]
    },
    {
      "cell_type": "code",
      "metadata": {
        "colab": {
          "base_uri": "https://localhost:8080/",
          "height": 133
        },
        "id": "rcwzDkONIuNh",
        "outputId": "748ac3b4-f982-4f29-eb20-2fd30a29618b"
      },
      "source": [
        "df"
      ],
      "execution_count": 27,
      "outputs": [
        {
          "output_type": "execute_result",
          "data": {
            "text/html": [
              "<div>\n",
              "<style scoped>\n",
              "    .dataframe tbody tr th:only-of-type {\n",
              "        vertical-align: middle;\n",
              "    }\n",
              "\n",
              "    .dataframe tbody tr th {\n",
              "        vertical-align: top;\n",
              "    }\n",
              "\n",
              "    .dataframe thead th {\n",
              "        text-align: right;\n",
              "    }\n",
              "</style>\n",
              "<table border=\"1\" class=\"dataframe\">\n",
              "  <thead>\n",
              "    <tr style=\"text-align: right;\">\n",
              "      <th></th>\n",
              "      <th>ID</th>\n",
              "      <th>FullName</th>\n",
              "      <th>Gender</th>\n",
              "      <th>DateOfBirth</th>\n",
              "      <th>Age</th>\n",
              "      <th>AgeGroup</th>\n",
              "    </tr>\n",
              "  </thead>\n",
              "  <tbody>\n",
              "    <tr>\n",
              "      <th>0</th>\n",
              "      <td>1</td>\n",
              "      <td>Stan Smith</td>\n",
              "      <td>Male</td>\n",
              "      <td>1960-02-10</td>\n",
              "      <td>60</td>\n",
              "      <td>Adult</td>\n",
              "    </tr>\n",
              "    <tr>\n",
              "      <th>1</th>\n",
              "      <td>2</td>\n",
              "      <td>Nikola Griffin</td>\n",
              "      <td>Male</td>\n",
              "      <td>1999-12-20</td>\n",
              "      <td>21</td>\n",
              "      <td>Adult</td>\n",
              "    </tr>\n",
              "    <tr>\n",
              "      <th>2</th>\n",
              "      <td>3</td>\n",
              "      <td>Ruby Moore</td>\n",
              "      <td>Female</td>\n",
              "      <td>2002-03-03</td>\n",
              "      <td>18</td>\n",
              "      <td>Teen</td>\n",
              "    </tr>\n",
              "  </tbody>\n",
              "</table>\n",
              "</div>"
            ],
            "text/plain": [
              "   ID        FullName  Gender DateOfBirth  Age AgeGroup\n",
              "0   1      Stan Smith    Male  1960-02-10   60    Adult\n",
              "1   2  Nikola Griffin    Male  1999-12-20   21    Adult\n",
              "2   3      Ruby Moore  Female  2002-03-03   18     Teen"
            ]
          },
          "metadata": {
            "tags": []
          },
          "execution_count": 27
        }
      ]
    },
    {
      "cell_type": "code",
      "metadata": {
        "id": "LDV_Fq33IyEO"
      },
      "source": [
        "bins = [13, 19, 60, 100]\r\n",
        "labels = ['Teen','Adult','Senior Adult']\r\n",
        "df['AgeGroup'] = pd.cut(df['Age'], bins = bins, labels=labels, right=False)"
      ],
      "execution_count": 28,
      "outputs": []
    },
    {
      "cell_type": "code",
      "metadata": {
        "colab": {
          "base_uri": "https://localhost:8080/",
          "height": 133
        },
        "id": "0OfhZI3PJNul",
        "outputId": "2a239752-8fbb-49e0-e156-fdc47d7f81e5"
      },
      "source": [
        "df"
      ],
      "execution_count": 29,
      "outputs": [
        {
          "output_type": "execute_result",
          "data": {
            "text/html": [
              "<div>\n",
              "<style scoped>\n",
              "    .dataframe tbody tr th:only-of-type {\n",
              "        vertical-align: middle;\n",
              "    }\n",
              "\n",
              "    .dataframe tbody tr th {\n",
              "        vertical-align: top;\n",
              "    }\n",
              "\n",
              "    .dataframe thead th {\n",
              "        text-align: right;\n",
              "    }\n",
              "</style>\n",
              "<table border=\"1\" class=\"dataframe\">\n",
              "  <thead>\n",
              "    <tr style=\"text-align: right;\">\n",
              "      <th></th>\n",
              "      <th>ID</th>\n",
              "      <th>FullName</th>\n",
              "      <th>Gender</th>\n",
              "      <th>DateOfBirth</th>\n",
              "      <th>Age</th>\n",
              "      <th>AgeGroup</th>\n",
              "    </tr>\n",
              "  </thead>\n",
              "  <tbody>\n",
              "    <tr>\n",
              "      <th>0</th>\n",
              "      <td>1</td>\n",
              "      <td>Stan Smith</td>\n",
              "      <td>Male</td>\n",
              "      <td>1960-02-10</td>\n",
              "      <td>60</td>\n",
              "      <td>Senior Adult</td>\n",
              "    </tr>\n",
              "    <tr>\n",
              "      <th>1</th>\n",
              "      <td>2</td>\n",
              "      <td>Nikola Griffin</td>\n",
              "      <td>Male</td>\n",
              "      <td>1999-12-20</td>\n",
              "      <td>21</td>\n",
              "      <td>Adult</td>\n",
              "    </tr>\n",
              "    <tr>\n",
              "      <th>2</th>\n",
              "      <td>3</td>\n",
              "      <td>Ruby Moore</td>\n",
              "      <td>Female</td>\n",
              "      <td>2002-03-03</td>\n",
              "      <td>18</td>\n",
              "      <td>Teen</td>\n",
              "    </tr>\n",
              "  </tbody>\n",
              "</table>\n",
              "</div>"
            ],
            "text/plain": [
              "   ID        FullName  Gender DateOfBirth  Age      AgeGroup\n",
              "0   1      Stan Smith    Male  1960-02-10   60  Senior Adult\n",
              "1   2  Nikola Griffin    Male  1999-12-20   21         Adult\n",
              "2   3      Ruby Moore  Female  2002-03-03   18          Teen"
            ]
          },
          "metadata": {
            "tags": []
          },
          "execution_count": 29
        }
      ]
    },
    {
      "cell_type": "code",
      "metadata": {
        "colab": {
          "base_uri": "https://localhost:8080/",
          "height": 133
        },
        "id": "m6II7-5MKVP-",
        "outputId": "c7e4e5ef-3cb7-4039-82a1-21eaf8e506c5"
      },
      "source": [
        "df.drop(['Age'], axis =1)"
      ],
      "execution_count": 32,
      "outputs": [
        {
          "output_type": "execute_result",
          "data": {
            "text/html": [
              "<div>\n",
              "<style scoped>\n",
              "    .dataframe tbody tr th:only-of-type {\n",
              "        vertical-align: middle;\n",
              "    }\n",
              "\n",
              "    .dataframe tbody tr th {\n",
              "        vertical-align: top;\n",
              "    }\n",
              "\n",
              "    .dataframe thead th {\n",
              "        text-align: right;\n",
              "    }\n",
              "</style>\n",
              "<table border=\"1\" class=\"dataframe\">\n",
              "  <thead>\n",
              "    <tr style=\"text-align: right;\">\n",
              "      <th></th>\n",
              "      <th>ID</th>\n",
              "      <th>FullName</th>\n",
              "      <th>Gender</th>\n",
              "      <th>DateOfBirth</th>\n",
              "      <th>AgeGroup</th>\n",
              "    </tr>\n",
              "  </thead>\n",
              "  <tbody>\n",
              "    <tr>\n",
              "      <th>0</th>\n",
              "      <td>1</td>\n",
              "      <td>Stan Smith</td>\n",
              "      <td>Male</td>\n",
              "      <td>1960-02-10</td>\n",
              "      <td>Senior Adult</td>\n",
              "    </tr>\n",
              "    <tr>\n",
              "      <th>1</th>\n",
              "      <td>2</td>\n",
              "      <td>Nikola Griffin</td>\n",
              "      <td>Male</td>\n",
              "      <td>1999-12-20</td>\n",
              "      <td>Adult</td>\n",
              "    </tr>\n",
              "    <tr>\n",
              "      <th>2</th>\n",
              "      <td>3</td>\n",
              "      <td>Ruby Moore</td>\n",
              "      <td>Female</td>\n",
              "      <td>2002-03-03</td>\n",
              "      <td>Teen</td>\n",
              "    </tr>\n",
              "  </tbody>\n",
              "</table>\n",
              "</div>"
            ],
            "text/plain": [
              "   ID        FullName  Gender DateOfBirth      AgeGroup\n",
              "0   1      Stan Smith    Male  1960-02-10  Senior Adult\n",
              "1   2  Nikola Griffin    Male  1999-12-20         Adult\n",
              "2   3      Ruby Moore  Female  2002-03-03          Teen"
            ]
          },
          "metadata": {
            "tags": []
          },
          "execution_count": 32
        }
      ]
    }
  ]
}